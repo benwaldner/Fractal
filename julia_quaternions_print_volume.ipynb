{
 "cells": [
  {
   "cell_type": "code",
   "execution_count": 1,
   "metadata": {},
   "outputs": [],
   "source": [
    "import numpy as np\n",
    "from julia_quaternion import julia_set\n",
    "from matplotlib import cm\n",
    "from multi_slice_viewer import multi_slice_viewer\n",
    "import matplotlib.pyplot as plt\n",
    "plt.style.use('dark_background')"
   ]
  },
  {
   "cell_type": "code",
   "execution_count": 2,
   "metadata": {},
   "outputs": [],
   "source": [
    "params = {\n",
    "    'figure.figsize': (11,28),\n",
    "}\n",
    "plt.rcParams.update(params)\n",
    "colormap = 'gist_earth'\n",
    "plt.set_cmap(colormap)\n",
    "%matplotlib qt"
   ]
  },
  {
   "cell_type": "code",
   "execution_count": 3,
   "metadata": {},
   "outputs": [],
   "source": [
    "xmins = [-2, -2, -2, -2]\n",
    "xmaxs = [2, 2, 2, 2]\n",
    "res = 200\n",
    "dims = [res,]*4\n",
    "maxiter = 128\n",
    "\n",
    "# c = [-1.0, 0.2, 0.0, 0.0]\n",
    "c = [0.285, 0.01, 0.01, 0]\n",
    "slice_dim  = 3\n",
    "slice_idx = int(res/2)\n",
    "\n",
    "julia = julia_set(xmins, xmaxs, dims, maxiter, c=c, slice_dim=slice_dim, slice_idx=slice_idx)"
   ]
  },
  {
   "cell_type": "code",
   "execution_count": 6,
   "metadata": {},
   "outputs": [],
   "source": [
    "fig, ax = plt.subplots()\n",
    "viewer = multi_slice_viewer(volume=julia, axis=0)\n",
    "viewer.render(fig, ax)"
   ]
  },
  {
   "cell_type": "code",
   "execution_count": 5,
   "metadata": {},
   "outputs": [],
   "source": [
    "# fig, ax = plt.subplots()\n",
    "# viewer.axis=2\n",
    "# viewer.render(fig, ax)"
   ]
  }
 ],
 "metadata": {
  "kernelspec": {
   "display_name": "Python 3",
   "language": "python",
   "name": "python3"
  },
  "language_info": {
   "codemirror_mode": {
    "name": "ipython",
    "version": 3
   },
   "file_extension": ".py",
   "mimetype": "text/x-python",
   "name": "python",
   "nbconvert_exporter": "python",
   "pygments_lexer": "ipython3",
   "version": "3.7.3"
  }
 },
 "nbformat": 4,
 "nbformat_minor": 2
}
